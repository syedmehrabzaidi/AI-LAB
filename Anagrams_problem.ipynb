{
  "nbformat": 4,
  "nbformat_minor": 0,
  "metadata": {
    "colab": {
      "provenance": [],
      "authorship_tag": "ABX9TyOtg/PUnrye27HXpHCK4lyg",
      "include_colab_link": true
    },
    "kernelspec": {
      "name": "python3",
      "display_name": "Python 3"
    },
    "language_info": {
      "name": "python"
    }
  },
  "cells": [
    {
      "cell_type": "markdown",
      "metadata": {
        "id": "view-in-github",
        "colab_type": "text"
      },
      "source": [
        "<a href=\"https://colab.research.google.com/github/syedmehrabzaidi/AI-LAB/blob/main/Anagrams_problem.ipynb\" target=\"_parent\"><img src=\"https://colab.research.google.com/assets/colab-badge.svg\" alt=\"Open In Colab\"/></a>"
      ]
    },
    {
      "cell_type": "markdown",
      "source": [
        "**Group Anagrams problem**"
      ],
      "metadata": {
        "id": "5xfpiRzpXW4d"
      }
    },
    {
      "cell_type": "code",
      "execution_count": null,
      "metadata": {
        "id": "VyeoaLDqXSBx"
      },
      "outputs": [],
      "source": [
        "strs = [\"eat\",\"tea\",\"tan\",\"ate\",\"nat\",\"bat\"]"
      ]
    },
    {
      "cell_type": "code",
      "source": [
        "dict = {}\n",
        "d2 = {}\n",
        "for i in range(len(strs) -1):\n",
        "  print('i----',i)\n",
        "  for j in range(len(strs) -1):\n",
        "    # print(strs[i],'++++++',strs[j])\n",
        "    if sorted(strs[i]) == sorted(strs[j]):\n",
        "        # print('----sorted',strs[i])\n",
        "        list = (strs[i],strs[j])\n",
        "        # d2.update({\n",
        "        #     1 : strs(i),\n",
        "        #     2 : strs(j)\n",
        "        # })\n",
        "        dict.update({\n",
        "            i : list\n",
        "        })\n",
        "  print('dict--',dict)"
      ],
      "metadata": {
        "id": "DIXIjv27XVxd"
      },
      "execution_count": null,
      "outputs": []
    }
  ]
}