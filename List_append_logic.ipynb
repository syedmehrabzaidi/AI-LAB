{
  "nbformat": 4,
  "nbformat_minor": 0,
  "metadata": {
    "colab": {
      "provenance": [],
      "authorship_tag": "ABX9TyMb6PwFDwc3piP6ox0JVWRa",
      "include_colab_link": true
    },
    "kernelspec": {
      "name": "python3",
      "display_name": "Python 3"
    },
    "language_info": {
      "name": "python"
    }
  },
  "cells": [
    {
      "cell_type": "markdown",
      "metadata": {
        "id": "view-in-github",
        "colab_type": "text"
      },
      "source": [
        "<a href=\"https://colab.research.google.com/github/syedmehrabzaidi/AI-LAB/blob/main/List_append_logic.ipynb\" target=\"_parent\"><img src=\"https://colab.research.google.com/assets/colab-badge.svg\" alt=\"Open In Colab\"/></a>"
      ]
    },
    {
      "cell_type": "markdown",
      "source": [
        "last number of K in list append in a[]"
      ],
      "metadata": {
        "id": "WN0fRi5HQzJO"
      }
    },
    {
      "cell_type": "code",
      "execution_count": 1,
      "metadata": {
        "colab": {
          "base_uri": "https://localhost:8080/"
        },
        "id": "MInrxgQFQkTa",
        "outputId": "495d2891-f4db-40e2-f184-19b7cd40a56a"
      },
      "outputs": [
        {
          "output_type": "stream",
          "name": "stdout",
          "text": [
            "[4, 5, 2, 1, 4, 5, 4, 5, 2]\n"
          ]
        }
      ],
      "source": [
        "k=3\n",
        "a = [1,4,5,4,5,2]\n",
        "a[:0] = a[-k:]\n",
        "print(a)"
      ]
    }
  ]
}