{
 "cells": [
  {
   "cell_type": "code",
   "execution_count": 1,
   "metadata": {},
   "outputs": [],
   "source": [
    "'''\n",
    "Created on Feb 11, 2019\n",
    "\n",
    "@author: dr.aarij\n",
    "'''\n",
    "from abc import abstractmethod\n",
    "\n",
    "class Environment(object):\n",
    "    '''\n",
    "    classdocs\n",
    "    '''\n",
    "    \n",
    "    @abstractmethod\n",
    "    def __init__(self, n):\n",
    "        self.n = n\n",
    "    \n",
    "    def executeStep(self,n=1):\n",
    "        raise NotImplementedError('action must be defined!')\n",
    "    \n",
    "    def executeAll(self):\n",
    "        raise NotImplementedError('action must be defined!')\n",
    "    \n",
    "    def delay(self, n=100):\n",
    "        self.delay = n\n",
    "        \n",
    "\n"
   ]
  },
  {
   "cell_type": "code",
   "execution_count": null,
   "metadata": {},
   "outputs": [],
   "source": []
  },
  {
   "cell_type": "code",
   "execution_count": null,
   "metadata": {},
   "outputs": [],
   "source": []
  }
 ],
 "metadata": {
  "kernelspec": {
   "display_name": "Python 3",
   "language": "python",
   "name": "python3"
  },
  "language_info": {
   "codemirror_mode": {
    "name": "ipython",
    "version": 3
   },
   "file_extension": ".py",
   "mimetype": "text/x-python",
   "name": "python",
   "nbconvert_exporter": "python",
   "pygments_lexer": "ipython3",
   "version": "3.7.3"
  }
 },
 "nbformat": 4,
 "nbformat_minor": 2
}
