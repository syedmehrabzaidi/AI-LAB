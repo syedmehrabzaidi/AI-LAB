{
 "cells": [
  {
   "cell_type": "code",
   "execution_count": 7,
   "metadata": {},
   "outputs": [
    {
     "name": "stdout",
     "output_type": "stream",
     "text": [
      "C:\\Users\\umer.chawla\\Desktop\\Lab3\n",
      "C:\\Users\\umer.chawla\\Desktop\\Lab3\n"
     ]
    },
    {
     "ename": "ModuleNotFoundError",
     "evalue": "No module named 'Environment'",
     "output_type": "error",
     "traceback": [
      "\u001b[1;31m---------------------------------------------------------------------------\u001b[0m",
      "\u001b[1;31mModuleNotFoundError\u001b[0m                       Traceback (most recent call last)",
      "\u001b[1;32m<ipython-input-7-0138d3552314>\u001b[0m in \u001b[0;36m<module>\u001b[1;34m\u001b[0m\n\u001b[0;32m     10\u001b[0m \u001b[0mprint\u001b[0m\u001b[1;33m(\u001b[0m\u001b[0mos\u001b[0m\u001b[1;33m.\u001b[0m\u001b[0mgetcwd\u001b[0m\u001b[1;33m(\u001b[0m\u001b[1;33m)\u001b[0m\u001b[1;33m)\u001b[0m\u001b[1;33m\u001b[0m\u001b[1;33m\u001b[0m\u001b[0m\n\u001b[0;32m     11\u001b[0m \u001b[1;33m\u001b[0m\u001b[0m\n\u001b[1;32m---> 12\u001b[1;33m \u001b[1;32mfrom\u001b[0m \u001b[0mEnvironment\u001b[0m \u001b[1;32mimport\u001b[0m \u001b[1;33m*\u001b[0m\u001b[1;33m\u001b[0m\u001b[1;33m\u001b[0m\u001b[0m\n\u001b[0m\u001b[0;32m     13\u001b[0m \u001b[1;32mfrom\u001b[0m \u001b[0mEnvironment\u001b[0m \u001b[1;32mimport\u001b[0m \u001b[0mRoom\u001b[0m\u001b[1;33m\u001b[0m\u001b[1;33m\u001b[0m\u001b[0m\n\u001b[0;32m     14\u001b[0m \u001b[1;32mfrom\u001b[0m \u001b[0mAgent\u001b[0m \u001b[1;32mimport\u001b[0m \u001b[0mVaccumAgent\u001b[0m\u001b[1;33m\u001b[0m\u001b[1;33m\u001b[0m\u001b[0m\n",
      "\u001b[1;31mModuleNotFoundError\u001b[0m: No module named 'Environment'"
     ]
    }
   ],
   "source": [
    "'''\n",
    "Created on Feb 11, 2019\n",
    "\n",
    "@author: dr.aarij\n",
    "'''\n",
    "\n",
    "import os\n",
    "print(os.getcwd())\n",
    "os.chdir('C:/Users/umer.chawla/Desktop/Lab3')\n",
    "print(os.getcwd())\n",
    "\n",
    "from Environment import * \n",
    "from Environment import Room\n",
    "from Agent import VaccumAgent\n",
    "\n",
    "class TwoRoomVaccumCleanerEnvironment(Environment.Environment):\n",
    "    '''\n",
    "    classdocs\n",
    "    '''\n",
    "    def __init__(self, agent):\n",
    "        '''\n",
    "        Constructor\n",
    "        '''\n",
    "        self.r1 = Room.Room('A','dirty')\n",
    "        self.r2 = Room.Room('B','dirty')\n",
    "        self.agent = agent\n",
    "        self.currentRoom = self.r1\n",
    "        self.delay = 1000\n",
    "        self.step = 1\n",
    "        self.action = \"\"\n",
    "    \n",
    "    def executeStep(self,n=1):\n",
    "        for _ in range(0,n):\n",
    "            self.displayPerception()\n",
    "            self.agent.sense(self)\n",
    "            res = self.agent.act()\n",
    "            self.action = res\n",
    "            if res == 'clean':\n",
    "                self.currentRoom.status = 'clean'\n",
    "            elif res == 'right':\n",
    "                self.currentRoom = self.r2\n",
    "            else:\n",
    "                self.currentRoom = self.r1\n",
    "            self.displayAction()\n",
    "            self.step += 1\n",
    "        \n",
    "    \n",
    "    def executeAll(self):\n",
    "        raise NotImplementedError('action must be defined!')\n",
    "    \n",
    "    def displayPerception(self):\n",
    "        print(\"Perception at step %d is [%s,%s]\" %(self.step,self.currentRoom.status,self.currentRoom.location))\n",
    "        \n",
    "    def displayAction(self):\n",
    "        print(\"------- Action taken  at step %d is [%s]\" %(self.step,self.action))\n",
    "    \n",
    "    def delay(self, n=100):\n",
    "        self.delay = n\n",
    "        \n",
    "if __name__ == '__main__':\n",
    "    vcagent = VaccumAgent.VaccumAgent() \n",
    "    env = TwoRoomVaccumCleanerEnvironment(vcagent)\n",
    "    env.executeStep(50) \n",
    "    \n",
    "    \n",
    "    \n",
    "    \n",
    "    \n",
    "    "
   ]
  },
  {
   "cell_type": "code",
   "execution_count": null,
   "metadata": {},
   "outputs": [],
   "source": []
  },
  {
   "cell_type": "code",
   "execution_count": null,
   "metadata": {},
   "outputs": [],
   "source": []
  }
 ],
 "metadata": {
  "kernelspec": {
   "display_name": "Python 3",
   "language": "python",
   "name": "python3"
  },
  "language_info": {
   "codemirror_mode": {
    "name": "ipython",
    "version": 3
   },
   "file_extension": ".py",
   "mimetype": "text/x-python",
   "name": "python",
   "nbconvert_exporter": "python",
   "pygments_lexer": "ipython3",
   "version": "3.7.3"
  }
 },
 "nbformat": 4,
 "nbformat_minor": 2
}
