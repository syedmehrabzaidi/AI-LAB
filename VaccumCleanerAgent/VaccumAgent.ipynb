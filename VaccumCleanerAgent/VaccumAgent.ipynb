{
 "cells": [
  {
   "cell_type": "code",
   "execution_count": 1,
   "metadata": {},
   "outputs": [],
   "source": [
    "\n",
    "\n",
    "'''\n",
    "Created on Feb 11, 2019\n",
    "\n",
    "@author: dr.aarij\n",
    "'''\n",
    "\n",
    "import Agent\n",
    "\n",
    "class VaccumAgent(Agent.Agent):\n",
    "    '''\n",
    "    classdocs\n",
    "    '''\n",
    "\n",
    "\n",
    "    def __init__(self):\n",
    "        '''\n",
    "        Constructor\n",
    "        '''\n",
    "        pass\n",
    "\n",
    "    def sense(self,env):\n",
    "        self.environment = env\n",
    "    \n",
    "    def act(self):\n",
    "        if self.environment.currentRoom.status == 'dirty':\n",
    "            return 'clean'\n",
    "        if self.environment.currentRoom.location == 'A':\n",
    "            return 'move to B'\n",
    "        if self.environment.curentroom.location == 'B':\n",
    "            return 'move to C'\n",
    "        return 'move to A'\n",
    "            \n",
    "            \n",
    "\n",
    "\n"
   ]
  },
  {
   "cell_type": "code",
   "execution_count": null,
   "metadata": {},
   "outputs": [],
   "source": []
  },
  {
   "cell_type": "code",
   "execution_count": null,
   "metadata": {},
   "outputs": [],
   "source": []
  },
  {
   "cell_type": "code",
   "execution_count": null,
   "metadata": {},
   "outputs": [],
   "source": []
  }
 ],
 "metadata": {
  "kernelspec": {
   "display_name": "Python 3",
   "language": "python",
   "name": "python3"
  },
  "language_info": {
   "codemirror_mode": {
    "name": "ipython",
    "version": 3
   },
   "file_extension": ".py",
   "mimetype": "text/x-python",
   "name": "python",
   "nbconvert_exporter": "python",
   "pygments_lexer": "ipython3",
   "version": "3.7.3"
  }
 },
 "nbformat": 4,
 "nbformat_minor": 2
}
